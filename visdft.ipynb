{
 "cells": [
  {
   "cell_type": "code",
   "execution_count": 2,
   "id": "017acc4b-c5b7-406e-8bfb-b4e24c3d7d8b",
   "metadata": {},
   "outputs": [],
   "source": [
    "import numpy as np\n",
    "import matplotlib.pyplot as plt\n",
    "from ipywidgets import interact\n",
    "import ipywidgets as widgets\n",
    "plt.rcParams['font.family'] = 'Heiti TC'  # 替换为你选择的字体\n",
    "\n",
    "\n",
    "def dft(x):\n",
    "    \"\"\"\n",
    "    input : 复数序列\n",
    "    output : 复数序列\n",
    "    \"\"\"\n",
    "    N = x.shape[0]\n",
    "    x = x.reshape(-1,1)\n",
    "    k = np.array(range(0,N)).reshape(-1,1)\n",
    "\n",
    "\n",
    "    W = np.exp(-1j*2*np.pi*np.dot(k,k.reshape(1,-1))/N)\n",
    "\n",
    "    re = np.dot(W,x).reshape(1,-1)\n",
    "\n",
    "\n",
    "    return re.reshape(-1)\n",
    "\n",
    "def idft(x):\n",
    "    \"\"\"\n",
    "    input : 复数序列\n",
    "    output : 复数序列\n",
    "    \"\"\"   \n",
    "    N = x.shape[0]\n",
    "    x = x.reshape(-1,1)\n",
    "    k = np.array(range(0,N)).reshape(-1,1)\n",
    "\n",
    "\n",
    "    W = np.exp(1j*2*np.pi*np.dot(k,k.reshape(1,-1))/N)\n",
    "\n",
    "    re = np.dot(W,x).reshape(1,-1)/N\n",
    "\n",
    "\n",
    "    return re.reshape(-1)    \n"
   ]
  },
  {
   "cell_type": "markdown",
   "metadata": {},
   "source": [
    "\n",
    "\n",
    "### 傅立叶变换\n",
    "\n",
    "$$F(j\\Omega) = \\int_{-\\infty}^{\\infty} f(t)e^{-j\\Omega t}\\mathrm{d}t$$\n",
    "$$f(t) =\\dfrac{1}{2\\pi} \\int_{-\\infty}^{\\infty} F(j\\Omega) e^{j\\Omega t}\\mathrm{d}\\omega$$\n",
    "\n"
   ]
  },
  {
   "cell_type": "markdown",
   "metadata": {},
   "source": [
    "### 从连续到离散\n",
    "\n",
    "$$x[n]=x_{p}(nT)=\\sum_{n=-\\infty}^{\\infty} x_{a}(nT) \\delta(t-n T)$$\n",
    "\n",
    "下标 \n",
    "𝑝\n",
    "通常表示“脉冲”（Pulse）\n",
    "\n",
    "下标 \n",
    "𝑎\n",
    "一般表示“原始”或“连续时间”（Analog）\n"
   ]
  },
  {
   "cell_type": "markdown",
   "metadata": {},
   "source": [
    "对抽样的 信号进行傅立叶变换\n",
    "\n",
    "$$\\begin{split}\\begin{aligned}\n",
    "X_{p}(j \\Omega) &=\\int_{-\\infty}^{\\infty} x_{p}(t) e^{-j \\Omega t} d t=\\int_{-\\infty}^{\\infty}\\left(\\sum_{n=-\\infty}^{\\infty} x[n] \\delta(t-n T)\\right) e^{-j \\Omega t} d t \\\\ &=\\sum_{n=-\\infty}^{\\infty} x[n]\\left(\\int_{-\\infty}^{\\infty} \\delta(t-n T) e^{-j \\Omega t} d t\\right) \\\\ \n",
    "&=\\sum_{n=-\\infty}^{\\infty} x[n] e^{-j \\Omega T n}\n",
    "\\end{aligned}\\end{split}$$"
   ]
  },
  {
   "cell_type": "markdown",
   "metadata": {},
   "source": [
    "\n",
    "令$\\omega=\\Omega T$\n",
    "\n",
    "$$X\\left(e^{j \\omega}\\right) \\triangleq  X_{p}(j \\Omega) = \\sum_{n=-\\infty}^{+\\infty} x[n] e^{-j w n}$$\n",
    "离散时间傅里叶变换（Discrete-time Fourier Transform DTFT）定义如下：\n",
    "$$X\\left(e^{j \\omega}\\right) \\triangleq  \\sum_{n=-\\infty}^{+\\infty} x[n] e^{-j w n}$$"
   ]
  },
  {
   "cell_type": "markdown",
   "metadata": {},
   "source": [
    "\n",
    "|  特点    | 连续时间傅里叶变换 | 离散时间傅里叶变换 |\n",
    "|------|:------------------:|:------------------:|\n",
    "| **计算** |      积分运算      |      求和运算      |\n",
    "| **时域** |     连续非周期     |      **离散**非周期      |\n",
    "| **频域** |     连续非周期     |      连续**周期**      |\n",
    "| **参数** |     $\\Omega$    |     $\\omega$     |\n"
   ]
  },
  {
   "cell_type": "markdown",
   "metadata": {},
   "source": [
    "### Inverse DTFT\n",
    "\n",
    "$$x[n]=\\frac{1}{2 \\pi} \\int_{-\\pi}^{\\pi} X\\left(e^{j \\omega}\\right) e^{j \\omega n} d \\omega$$\n",
    "\n",
    "证明: \n",
    "$$\\begin{split} \\begin{aligned} x[n] &=\\frac{1}{2 \\pi} \\int_{-\\pi}^{\\pi}\\left(\\sum_{l=-\\infty}^{\\infty} x[l] e^{-j \\omega l}\\right) e^{j \\omega n} d \\omega \\\\ &=\\sum_{l=-\\infty}^{\\infty} x[l]\\left(\\frac{1}{2 \\pi} \\int_{-\\pi}^{\\pi} e^{j \\omega(n-l)} d \\omega\\right) \\\\ &=\\sum_{l=-\\infty}^{\\infty} x[l] \\frac{\\sin \\pi(n-l)}{\\pi(n-l)}=x[n] \\end{aligned}\\end{split}$$"
   ]
  },
  {
   "cell_type": "markdown",
   "metadata": {},
   "source": [
    "### 讨论DTFT的收敛性\n",
    "\n",
    "收敛,即$$|X(e^{j\\omega})|<\\infty, \\ \\forall \\omega$$\n",
    "\n",
    "定义\n",
    "K\n",
    "阶 DTFT 变换逼近如下\n",
    "$$X_K(e^{j\\omega}) = \\sum_{n=-K}^K x[n]e^{-j\\omega n}$$\n",
    "\n",
    "- 一致收敛\n",
    "$$\\lim_{K\\to \\infty} X_K(e^{j\\omega}) = X(e^{j\\omega})$$\n",
    "- 均方收敛\n",
    "$$\\lim_{K\\to \\infty} \\int_{-\\pi}^\\pi \\left\\vert X(e^{j\\omega}) - X_K(e^{j\\omega})\\right\\vert^2d\\omega = 0$$\n"
   ]
  },
  {
   "cell_type": "markdown",
   "metadata": {},
   "source": [
    "### 序列的类型与 DTFT 收敛性\n",
    "\n",
    "根据序列的可和性质，可以将序列分为：绝对可和序列、平方可和序列和非可和序列。序列的可和性质与其 DTFT 变换的收敛性有关。\n",
    "\n",
    "| 序列类型         | 一致收敛 | 均方收敛 | 狄拉克函数引入 |   举例   |\n",
    "|--------------|:------:|:------:|:---------------:|:------:|\n",
    "| **绝对可和序列** |   满足   |   满足   |              - | 指数序列 |\n",
    "| **平方可和序列** |  不满足  |   满足   |              - | Sinc序列 |\n",
    "| **非可和序列**     |  不满足  |  不满足  |           满足 | 正弦序列 |\n",
    "\n",
    "Sinc 序列是一个特殊的重要序列，它是我们后面要学习的理想低通滤波器的时域形式（其频域形式为门函数）\n",
    "\n",
    "```math\n",
    "h_{L P}[n]=\\frac{\\sin \\omega_{c} n}{\\pi n} \\longleftrightarrow H_{L P}\\left(e^{j \\omega}\\right)=\\left\\{\\begin{array}{ll}{1,} & {0 \\leq|\\omega| \\leq \\omega_{c}} \\\\ {0,} & {\\omega_{c} \\leq|\\omega| \\leq \\pi}\\end{array}\\right.\n",
    "```\n"
   ]
  },
  {
   "cell_type": "code",
   "execution_count": 3,
   "metadata": {},
   "outputs": [],
   "source": [
    "def plotft(fun ,sta = -1,end = 1,N=10):\n",
    "    t = np.linspace(sta, end, N)\n",
    "    signal = eval(fun)(t)\n",
    "\n",
    "    # 计算傅立叶变换\n",
    "    fft_signal =  dft(signal)\n",
    "    omega = 2*np.pi*np.array(range(1,N+1))/N\n",
    "\n",
    "    plt.clf()\n",
    "    # 绘制原始信号\n",
    "    plt.subplot(2, 1, 1)\n",
    "    plt.stem(t, signal)\n",
    "    plt.title('原始信号')\n",
    "    plt.xlabel('时间 (s)')\n",
    "    plt.ylabel('幅度')\n",
    "\n",
    "    # 绘制傅立叶变换结果\n",
    "    plt.subplot(2, 1, 2)\n",
    "    plt.stem(omega, np.abs(fft_signal))\n",
    "    plt.title('傅立叶变换')\n",
    "    plt.xlabel('角频率 (rad/s)')\n",
    "    plt.ylabel('幅度')\n",
    "\n",
    "\n",
    "    plt.show()"
   ]
  },
  {
   "cell_type": "code",
   "execution_count": 4,
   "metadata": {},
   "outputs": [],
   "source": [
    "def myfunc(x):\n",
    "\n",
    "    return np.ones(len(x))\n"
   ]
  },
  {
   "cell_type": "code",
   "execution_count": 5,
   "metadata": {},
   "outputs": [
    {
     "data": {
      "application/vnd.jupyter.widget-view+json": {
       "model_id": "2463ac24c7b54392ba09c15bf603630e",
       "version_major": 2,
       "version_minor": 0
      },
      "text/plain": [
       "interactive(children=(Text(value='myfunc', description='fun'), FloatSlider(value=-1.0, description='sta', min=…"
      ]
     },
     "metadata": {},
     "output_type": "display_data"
    },
    {
     "data": {
      "text/plain": [
       "<function __main__.plotft(fun, sta=-1, end=1, N=10)>"
      ]
     },
     "execution_count": 5,
     "metadata": {},
     "output_type": "execute_result"
    }
   ],
   "source": [
    "interact(plotft ,\\\n",
    "         fun = 'myfunc',\\\n",
    "         sta = widgets.FloatSlider(min = -100,max = 100 ,step =0.01,value = -1),\\\n",
    "         end = widgets.FloatSlider(min = -100,max = 100 ,step =0.01,value = 1),\\\n",
    "         N = widgets.IntSlider(min=10,max=100,step = 1,value = 10))"
   ]
  },
  {
   "cell_type": "code",
   "execution_count": 6,
   "metadata": {},
   "outputs": [
    {
     "data": {
      "text/plain": [
       "array([3.+0.j, 0.+0.j, 0.+0.j])"
      ]
     },
     "execution_count": 6,
     "metadata": {},
     "output_type": "execute_result"
    }
   ],
   "source": [
    "np.fft.fft([1,1,1])"
   ]
  },
  {
   "cell_type": "code",
   "execution_count": null,
   "metadata": {},
   "outputs": [],
   "source": []
  }
 ],
 "metadata": {
  "kernelspec": {
   "display_name": "Python 3",
   "language": "python",
   "name": "python3"
  },
  "language_info": {
   "codemirror_mode": {
    "name": "ipython",
    "version": 3
   },
   "file_extension": ".py",
   "mimetype": "text/x-python",
   "name": "python",
   "nbconvert_exporter": "python",
   "pygments_lexer": "ipython3",
   "version": "3.9.6"
  }
 },
 "nbformat": 4,
 "nbformat_minor": 2
}
